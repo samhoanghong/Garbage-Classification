{
 "cells": [
  {
   "cell_type": "code",
   "execution_count": 3,
   "metadata": {},
   "outputs": [
    {
     "name": "stdout",
     "output_type": "stream",
     "text": [
      "CSV file created successfully.\n"
     ]
    }
   ],
   "source": [
    "import os\n",
    "import pandas as pd\n",
    "\n",
    "# Set the root directory and output CSV path\n",
    "root_dir = 'garbage_data/CVPR_2024_dataset_Train'\n",
    "output_csv = 'KDD/dataset/train_image_data.csv'\n",
    "\n",
    "# Initialize an empty list to store file information\n",
    "data = []\n",
    "\n",
    "# Traverse through each category folder\n",
    "for category in os.listdir(root_dir):\n",
    "    category_path = os.path.join(root_dir, category)\n",
    "    \n",
    "    # Check if it is a directory\n",
    "    if os.path.isdir(category_path):\n",
    "        # Traverse each file in the category folder\n",
    "        for filename in os.listdir(category_path):\n",
    "            if filename.endswith('.png'):\n",
    "                # Create the relative file path\n",
    "                image_path = filename\n",
    "                # Extract the filename without the extension\n",
    "                description_text = os.path.splitext(filename)[0]\n",
    "                \n",
    "                # Append data as a tuple\n",
    "                data.append((description_text, image_path, category))\n",
    "\n",
    "# Create a DataFrame\n",
    "df = pd.DataFrame(data, columns=['text', 'img_path', 'label'])\n",
    "\n",
    "# Save the DataFrame to a CSV file\n",
    "df.to_csv(output_csv, index=False)\n",
    "\n",
    "print(\"CSV file created successfully.\")\n"
   ]
  },
  {
   "cell_type": "code",
   "execution_count": 8,
   "metadata": {},
   "outputs": [
    {
     "name": "stdout",
     "output_type": "stream",
     "text": [
      "All images have been copied successfully.\n"
     ]
    }
   ],
   "source": [
    "import os\n",
    "import shutil\n",
    "\n",
    "# Set the root directory and target folder\n",
    "root_dir = 'garbage_data/CVPR_2024_dataset_Val'\n",
    "target_folder = 'KDD/dataset/images'\n",
    "\n",
    "# Create the target folder if it doesn't exist\n",
    "os.makedirs(target_folder, exist_ok=True)\n",
    "\n",
    "# Traverse through each category folder\n",
    "for category in os.listdir(root_dir):\n",
    "    category_path = os.path.join(root_dir, category)\n",
    "    \n",
    "    # Check if it is a directory\n",
    "    if os.path.isdir(category_path):\n",
    "        # Traverse each file in the category folder\n",
    "        for filename in os.listdir(category_path):\n",
    "            if filename.endswith('.png'):\n",
    "                # Create the source and destination paths\n",
    "                source_path = os.path.join(category_path, filename)\n",
    "                dest_path = os.path.join(target_folder, filename)\n",
    "                \n",
    "                # Copy the file\n",
    "                shutil.copy(source_path, dest_path)\n",
    "\n",
    "print(\"All images have been copied successfully.\")\n"
   ]
  },
  {
   "cell_type": "code",
   "execution_count": 19,
   "metadata": {},
   "outputs": [
    {
     "name": "stdout",
     "output_type": "stream",
     "text": [
      "CSV file loaded successfully.\n",
      "Text preprocessing complete and saved.\n"
     ]
    }
   ],
   "source": [
    "\n",
    "import pandas as pd\n",
    "import re\n",
    "\n",
    "# Load the CSV file\n",
    "try:\n",
    "    df = pd.read_csv(\"KDD/dataset/test_image_data.csv\")\n",
    "    print(\"CSV file loaded successfully.\")\n",
    "except FileNotFoundError:\n",
    "    print(\"The file was not found. Please check the file path.\")\n",
    "    raise\n",
    "\n",
    "# Check if the 'text' column exists\n",
    "if 'text' not in df.columns:\n",
    "    print(\"The 'text' column is missing from the CSV file.\")\n",
    "else:\n",
    "    # Define a preprocessing function for the text column\n",
    "    def preprocess_text(text):\n",
    "        # Ensure text is a string\n",
    "        if not isinstance(text, str):\n",
    "            return text\n",
    "        # Replace underscores with spaces\n",
    "        text = text.replace(\"_\", \" \").replace(\"-\", \" \")\n",
    "        # Remove numeric identifiers\n",
    "        text = re.sub(r'\\d+', '', text).strip()\n",
    "        # Lowever case\n",
    "        \n",
    "        text = text.lower()\n",
    "        # Optionally, convert to title case for readability\n",
    "        #text = text.title()\n",
    "        return text\n",
    "\n",
    "    # Apply the preprocessing function to the 'text' column\n",
    "    df['text'] = df['text'].apply(preprocess_text)\n",
    "\n",
    "    # Save the modified DataFrame back to a new CSV\n",
    "    df.to_csv(\"KDD/dataset/test_image_data.csv\", index=False)\n",
    "    print(\"Text preprocessing complete and saved.\")\n"
   ]
  },
  {
   "cell_type": "code",
   "execution_count": 11,
   "metadata": {},
   "outputs": [
    {
     "name": "stdout",
     "output_type": "stream",
     "text": [
      "The longest text entry is:\n",
      "Clean Closed Polypropylene Take Out Food Container Front Side Up\n",
      "\n",
      "Length of the longest text: 64\n"
     ]
    }
   ],
   "source": [
    "import pandas as pd\n",
    "\n",
    "# Load the CSV file\n",
    "df = pd.read_csv(\"KDD/dataset/train_image_data.csv\")\n",
    "\n",
    "# Check if 'text' column exists\n",
    "if 'text' not in df.columns:\n",
    "    print(\"The 'text' column is missing from the CSV file.\")\n",
    "else:\n",
    "    # Find the longest entry in 'text' column\n",
    "    df['text_length'] = df['text'].astype(str).apply(len)  # Create a new column with text lengths\n",
    "    longest_text = df.loc[df['text_length'].idxmax(), 'text']  # Get the text with the max length\n",
    "    longest_length = df['text_length'].max()  # Get the length of that text\n",
    "\n",
    "    print(\"The longest text entry is:\")\n",
    "    print(longest_text)\n",
    "    print(\"\\nLength of the longest text:\", longest_length)"
   ]
  }
 ],
 "metadata": {
  "kernelspec": {
   "display_name": "Python 3",
   "language": "python",
   "name": "python3"
  },
  "language_info": {
   "codemirror_mode": {
    "name": "ipython",
    "version": 3
   },
   "file_extension": ".py",
   "mimetype": "text/x-python",
   "name": "python",
   "nbconvert_exporter": "python",
   "pygments_lexer": "ipython3",
   "version": "3.12.6"
  }
 },
 "nbformat": 4,
 "nbformat_minor": 2
}
